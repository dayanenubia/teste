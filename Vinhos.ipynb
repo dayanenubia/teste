{
  "nbformat": 4,
  "nbformat_minor": 0,
  "metadata": {
    "colab": {
      "provenance": [],
      "include_colab_link": true
    },
    "kernelspec": {
      "name": "python3",
      "display_name": "Python 3"
    }
  },
  "cells": [
    {
      "cell_type": "markdown",
      "metadata": {
        "id": "view-in-github",
        "colab_type": "text"
      },
      "source": [
        "<a href=\"https://colab.research.google.com/github/dayanenubia/teste/blob/main/Vinhos.ipynb\" target=\"_parent\"><img src=\"https://colab.research.google.com/assets/colab-badge.svg\" alt=\"Open In Colab\"/></a>"
      ]
    },
    {
      "cell_type": "code",
      "metadata": {
        "id": "SUVSNWRbwd_T",
        "outputId": "0abaa335-db7c-4566-9306-6113f7317e3e",
        "colab": {
          "base_uri": "https://localhost:8080/"
        }
      },
      "source": [
        "#!pip install -q scikit-learn==1.3.1\n",
        "from sklearn import tree\n",
        "from sklearn import datasets\n",
        "from sklearn.model_selection import train_test_split\n",
        "from sklearn.metrics import accuracy_score\n",
        "import pickle\n",
        "\n",
        "wine = datasets.load_wine()\n",
        "wine.keys()\n",
        "#print(wine.DESCR)"
      ],
      "execution_count": null,
      "outputs": [
        {
          "output_type": "execute_result",
          "data": {
            "text/plain": [
              "dict_keys(['data', 'target', 'frame', 'target_names', 'DESCR', 'feature_names'])"
            ]
          },
          "metadata": {},
          "execution_count": 9
        }
      ]
    },
    {
      "cell_type": "code",
      "metadata": {
        "id": "890dTtyiwzZ4",
        "colab": {
          "base_uri": "https://localhost:8080/"
        },
        "outputId": "45cc2c68-88f2-4c0d-f819-8125ffee2f3c"
      },
      "source": [
        "labels_names = wine.target_names\n",
        "pickle.dump(labels_names, open('wine_names','wb'))\n",
        "nomes_vinho = pickle.load(open('wine_names','rb'))\n",
        "print(nomes_vinho)"
      ],
      "execution_count": null,
      "outputs": [
        {
          "output_type": "stream",
          "name": "stdout",
          "text": [
            "['class_0' 'class_1' 'class_2']\n"
          ]
        }
      ]
    },
    {
      "cell_type": "code",
      "metadata": {
        "id": "6mFQcxdHyydH"
      },
      "source": [
        "x = wine.data\n",
        "y = wine.target"
      ],
      "execution_count": null,
      "outputs": []
    },
    {
      "cell_type": "code",
      "metadata": {
        "id": "w0_dsLFozGNh"
      },
      "source": [
        "#Dividindo o conjunto de dados em treino e teste\n",
        "x_treino,x_teste,y_treino,y_teste = train_test_split(x,y,test_size=0.3)"
      ],
      "execution_count": null,
      "outputs": []
    },
    {
      "cell_type": "code",
      "metadata": {
        "id": "KLFEN_V600pK"
      },
      "source": [
        "# Treinando um classificador de árvore de decisão\n",
        "clf = tree.DecisionTreeClassifier()\n",
        "clf = clf.fit(x_treino, y_treino)"
      ],
      "execution_count": null,
      "outputs": []
    },
    {
      "cell_type": "code",
      "metadata": {
        "id": "VfWrgMtB29qv",
        "outputId": "355f498e-d093-44ef-80e9-884786fa9c56",
        "colab": {
          "base_uri": "https://localhost:8080/"
        }
      },
      "source": [
        "# Fazendo previsões no conjunto de teste\n",
        "preditos = clf.predict(x_teste)\n",
        "print(\"Preditos:\", preditos)\n",
        "print(\"Real    :\", y_teste)"
      ],
      "execution_count": null,
      "outputs": [
        {
          "output_type": "stream",
          "name": "stdout",
          "text": [
            "Preditos: [0 1 0 1 0 2 0 1 0 1 1 0 2 2 1 0 1 2 0 2 1 2 2 0 2 1 2 1 2 0 0 0 0 2 0 0 0\n",
            " 0 0 2 1 1 1 0 0 0 0 1 2 1 1 1 1 2]\n",
            "Real    : [0 1 0 1 0 2 0 1 0 1 1 0 1 2 1 0 1 2 0 2 1 2 2 0 2 1 2 1 2 0 0 0 0 2 0 0 0\n",
            " 0 0 2 1 1 1 0 0 0 0 1 2 1 1 1 1 2]\n"
          ]
        }
      ]
    },
    {
      "cell_type": "code",
      "metadata": {
        "id": "T_VD78nu398k",
        "outputId": "037d08c8-5c0f-4074-e351-32e4583f1f9b",
        "colab": {
          "base_uri": "https://localhost:8080/"
        }
      },
      "source": [
        "# Calculando a acurácia\n",
        "print(\"Acuracia:\", accuracy_score(y_teste, preditos))"
      ],
      "execution_count": 12,
      "outputs": [
        {
          "output_type": "stream",
          "name": "stdout",
          "text": [
            "Acuracia: 0.9629629629629629\n"
          ]
        }
      ]
    },
    {
      "cell_type": "code",
      "metadata": {
        "id": "H4OV-kLOWgjT"
      },
      "source": [
        "# Salvando o modelo treinado em um arquivo\n",
        "pickle.dump(clf, open('wine_model.pkl', 'wb'))\n"
      ],
      "execution_count": 13,
      "outputs": []
    },
    {
      "cell_type": "code",
      "source": [
        "# Carregando o modelo treinado\n",
        "model = pickle.load(open('wine_model.pkl', 'rb'))\n"
      ],
      "metadata": {
        "id": "geaMzNdRT6AL"
      },
      "execution_count": 14,
      "outputs": []
    },
    {
      "cell_type": "code",
      "source": [
        "# Fazendo previsões com o modelo carregado\n",
        "nova_amostra = [[13.24, 2.59, 2.87, 21.0, 118, 2.8, 2.69, 0.39, 1.82, 4.32, 1.04, 2.93, 735]]\n",
        "previsao = model.predict(nova_amostra)\n",
        "print(\"Previsão:\", previsao)"
      ],
      "metadata": {
        "colab": {
          "base_uri": "https://localhost:8080/"
        },
        "id": "6N4b7NlRT-ke",
        "outputId": "c41cd2ae-7191-432d-9a0c-3bfc4844bf96"
      },
      "execution_count": 15,
      "outputs": [
        {
          "output_type": "stream",
          "name": "stdout",
          "text": [
            "Previsão: [1]\n"
          ]
        }
      ]
    }
  ]
}